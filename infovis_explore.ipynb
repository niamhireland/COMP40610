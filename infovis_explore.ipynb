{
 "cells": [
  {
   "cell_type": "code",
   "execution_count": 1,
   "metadata": {},
   "outputs": [],
   "source": [
    "import pandas as pd \n",
    "import numpy as np \n",
    "import matplotlib.pyplot as plt \n",
    "import seaborn as sns\n",
    "import re\n",
    "import json\n",
    "\n",
    "df = pd.read_csv(\"holidays.csv\", dtype={'column_name': 'str'})"
   ]
  },
  {
   "cell_type": "code",
   "execution_count": 2,
   "metadata": {},
   "outputs": [
    {
     "data": {
      "text/html": [
       "<div>\n",
       "<style scoped>\n",
       "    .dataframe tbody tr th:only-of-type {\n",
       "        vertical-align: middle;\n",
       "    }\n",
       "\n",
       "    .dataframe tbody tr th {\n",
       "        vertical-align: top;\n",
       "    }\n",
       "\n",
       "    .dataframe thead th {\n",
       "        text-align: right;\n",
       "    }\n",
       "</style>\n",
       "<table border=\"1\" class=\"dataframe\">\n",
       "  <thead>\n",
       "    <tr style=\"text-align: right;\">\n",
       "      <th></th>\n",
       "      <th>country</th>\n",
       "      <th>date_parsed</th>\n",
       "      <th>weekday</th>\n",
       "      <th>day</th>\n",
       "      <th>month</th>\n",
       "      <th>name_of_holiday</th>\n",
       "      <th>date_of_holiday</th>\n",
       "      <th>year_of_event</th>\n",
       "      <th>independence_from</th>\n",
       "      <th>event_commemorated_and_notes</th>\n",
       "      <th>year</th>\n",
       "      <th>date_mdy</th>\n",
       "    </tr>\n",
       "  </thead>\n",
       "  <tbody>\n",
       "    <tr>\n",
       "      <th>0</th>\n",
       "      <td>Afghanistan</td>\n",
       "      <td>1919-08-19</td>\n",
       "      <td>Tuesday</td>\n",
       "      <td>19.0</td>\n",
       "      <td>Aug</td>\n",
       "      <td>Afghan Independence Day (Afghan Victory Day)</td>\n",
       "      <td>August 19</td>\n",
       "      <td>1919.0</td>\n",
       "      <td>United Kingdom</td>\n",
       "      <td>Anglo-Afghan Treaty of 1919 or Treaty of Rawal...</td>\n",
       "      <td>1919.0</td>\n",
       "      <td>August 19, 1919</td>\n",
       "    </tr>\n",
       "    <tr>\n",
       "      <th>1</th>\n",
       "      <td>Albania</td>\n",
       "      <td>1912-11-28</td>\n",
       "      <td>Thursday</td>\n",
       "      <td>28.0</td>\n",
       "      <td>Nov</td>\n",
       "      <td>Flag Day (Dita e Flamurit)</td>\n",
       "      <td>November 28</td>\n",
       "      <td>1912.0</td>\n",
       "      <td>Ottoman Empire</td>\n",
       "      <td>Albanian Declaration of Independence. The foll...</td>\n",
       "      <td>1912.0</td>\n",
       "      <td>November 28, 1912</td>\n",
       "    </tr>\n",
       "    <tr>\n",
       "      <th>2</th>\n",
       "      <td>Algeria</td>\n",
       "      <td>1962-07-05</td>\n",
       "      <td>Thursday</td>\n",
       "      <td>5.0</td>\n",
       "      <td>Jul</td>\n",
       "      <td>Independence Day</td>\n",
       "      <td>July 5</td>\n",
       "      <td>1962.0</td>\n",
       "      <td>France</td>\n",
       "      <td>Algeria gained independence following the Alge...</td>\n",
       "      <td>1962.0</td>\n",
       "      <td>July 5, 1962</td>\n",
       "    </tr>\n",
       "    <tr>\n",
       "      <th>3</th>\n",
       "      <td>Andorra</td>\n",
       "      <td>NaN</td>\n",
       "      <td>NaN</td>\n",
       "      <td>NaN</td>\n",
       "      <td>NaN</td>\n",
       "      <td>NaN</td>\n",
       "      <td>NaN</td>\n",
       "      <td>NaN</td>\n",
       "      <td>NaN</td>\n",
       "      <td>NaN</td>\n",
       "      <td>NaN</td>\n",
       "      <td>NaN</td>\n",
       "    </tr>\n",
       "    <tr>\n",
       "      <th>4</th>\n",
       "      <td>Angola</td>\n",
       "      <td>1975-11-11</td>\n",
       "      <td>Tuesday</td>\n",
       "      <td>11.0</td>\n",
       "      <td>Nov</td>\n",
       "      <td>Independence Day</td>\n",
       "      <td>November 11</td>\n",
       "      <td>1975.0</td>\n",
       "      <td>Portugal</td>\n",
       "      <td>The Alvor Agreement, signed on 15 January 1975...</td>\n",
       "      <td>1975.0</td>\n",
       "      <td>November 11, 1975</td>\n",
       "    </tr>\n",
       "  </tbody>\n",
       "</table>\n",
       "</div>"
      ],
      "text/plain": [
       "       country date_parsed   weekday   day month  \\\n",
       "0  Afghanistan  1919-08-19   Tuesday  19.0   Aug   \n",
       "1      Albania  1912-11-28  Thursday  28.0   Nov   \n",
       "2      Algeria  1962-07-05  Thursday   5.0   Jul   \n",
       "3      Andorra         NaN       NaN   NaN   NaN   \n",
       "4       Angola  1975-11-11   Tuesday  11.0   Nov   \n",
       "\n",
       "                                name_of_holiday date_of_holiday  \\\n",
       "0  Afghan Independence Day (Afghan Victory Day)       August 19   \n",
       "1                    Flag Day (Dita e Flamurit)     November 28   \n",
       "2                              Independence Day          July 5   \n",
       "3                                           NaN             NaN   \n",
       "4                              Independence Day     November 11   \n",
       "\n",
       "   year_of_event independence_from  \\\n",
       "0         1919.0    United Kingdom   \n",
       "1         1912.0    Ottoman Empire   \n",
       "2         1962.0            France   \n",
       "3            NaN               NaN   \n",
       "4         1975.0          Portugal   \n",
       "\n",
       "                        event_commemorated_and_notes    year  \\\n",
       "0  Anglo-Afghan Treaty of 1919 or Treaty of Rawal...  1919.0   \n",
       "1  Albanian Declaration of Independence. The foll...  1912.0   \n",
       "2  Algeria gained independence following the Alge...  1962.0   \n",
       "3                                                NaN     NaN   \n",
       "4  The Alvor Agreement, signed on 15 January 1975...  1975.0   \n",
       "\n",
       "            date_mdy  \n",
       "0    August 19, 1919  \n",
       "1  November 28, 1912  \n",
       "2       July 5, 1962  \n",
       "3                NaN  \n",
       "4  November 11, 1975  "
      ]
     },
     "execution_count": 2,
     "metadata": {},
     "output_type": "execute_result"
    }
   ],
   "source": [
    "df.head()"
   ]
  },
  {
   "cell_type": "code",
   "execution_count": 3,
   "metadata": {},
   "outputs": [
    {
     "name": "stdout",
     "output_type": "stream",
     "text": [
      "<class 'pandas.core.frame.DataFrame'>\n",
      "RangeIndex: 216 entries, 0 to 215\n",
      "Data columns (total 12 columns):\n",
      " #   Column                        Non-Null Count  Dtype  \n",
      "---  ------                        --------------  -----  \n",
      " 0   country                       216 non-null    object \n",
      " 1   date_parsed                   189 non-null    object \n",
      " 2   weekday                       189 non-null    object \n",
      " 3   day                           189 non-null    float64\n",
      " 4   month                         189 non-null    object \n",
      " 5   name_of_holiday               150 non-null    object \n",
      " 6   date_of_holiday               189 non-null    object \n",
      " 7   year_of_event                 174 non-null    float64\n",
      " 8   independence_from             181 non-null    object \n",
      " 9   event_commemorated_and_notes  145 non-null    object \n",
      " 10  year                          189 non-null    float64\n",
      " 11  date_mdy                      189 non-null    object \n",
      "dtypes: float64(3), object(9)\n",
      "memory usage: 20.4+ KB\n"
     ]
    }
   ],
   "source": [
    "df.info()"
   ]
  },
  {
   "cell_type": "markdown",
   "metadata": {},
   "source": [
    "Too many columns and a lot of repetition. Dropping the following for simplicity. "
   ]
  },
  {
   "cell_type": "code",
   "execution_count": 4,
   "metadata": {},
   "outputs": [
    {
     "data": {
      "text/html": [
       "<div>\n",
       "<style scoped>\n",
       "    .dataframe tbody tr th:only-of-type {\n",
       "        vertical-align: middle;\n",
       "    }\n",
       "\n",
       "    .dataframe tbody tr th {\n",
       "        vertical-align: top;\n",
       "    }\n",
       "\n",
       "    .dataframe thead th {\n",
       "        text-align: right;\n",
       "    }\n",
       "</style>\n",
       "<table border=\"1\" class=\"dataframe\">\n",
       "  <thead>\n",
       "    <tr style=\"text-align: right;\">\n",
       "      <th></th>\n",
       "      <th>country</th>\n",
       "      <th>date_parsed</th>\n",
       "      <th>month</th>\n",
       "      <th>name_of_holiday</th>\n",
       "      <th>date_of_holiday</th>\n",
       "      <th>independence_from</th>\n",
       "    </tr>\n",
       "  </thead>\n",
       "  <tbody>\n",
       "    <tr>\n",
       "      <th>211</th>\n",
       "      <td>Venezuela</td>\n",
       "      <td>1811-07-05</td>\n",
       "      <td>Jul</td>\n",
       "      <td>Independence Day</td>\n",
       "      <td>July 5</td>\n",
       "      <td>Spanish Empire</td>\n",
       "    </tr>\n",
       "    <tr>\n",
       "      <th>212</th>\n",
       "      <td>Vietnam</td>\n",
       "      <td>1945-09-02</td>\n",
       "      <td>Sep</td>\n",
       "      <td>Independence Day</td>\n",
       "      <td>September 2</td>\n",
       "      <td>Empire of Japan and France</td>\n",
       "    </tr>\n",
       "    <tr>\n",
       "      <th>213</th>\n",
       "      <td>Yemen</td>\n",
       "      <td>1967-11-30</td>\n",
       "      <td>Nov</td>\n",
       "      <td>NaN</td>\n",
       "      <td>November 30</td>\n",
       "      <td>United Kingdom</td>\n",
       "    </tr>\n",
       "    <tr>\n",
       "      <th>214</th>\n",
       "      <td>Zambia</td>\n",
       "      <td>1964-10-24</td>\n",
       "      <td>Oct</td>\n",
       "      <td>Independence Day</td>\n",
       "      <td>October 24</td>\n",
       "      <td>United Kingdom</td>\n",
       "    </tr>\n",
       "    <tr>\n",
       "      <th>215</th>\n",
       "      <td>Zimbabwe</td>\n",
       "      <td>1980-04-18</td>\n",
       "      <td>Apr</td>\n",
       "      <td>Independence Day</td>\n",
       "      <td>April 18</td>\n",
       "      <td>United Kingdom</td>\n",
       "    </tr>\n",
       "  </tbody>\n",
       "</table>\n",
       "</div>"
      ],
      "text/plain": [
       "       country date_parsed month   name_of_holiday date_of_holiday  \\\n",
       "211  Venezuela  1811-07-05   Jul  Independence Day          July 5   \n",
       "212    Vietnam  1945-09-02   Sep  Independence Day     September 2   \n",
       "213      Yemen  1967-11-30   Nov               NaN     November 30   \n",
       "214     Zambia  1964-10-24   Oct  Independence Day      October 24   \n",
       "215   Zimbabwe  1980-04-18   Apr  Independence Day        April 18   \n",
       "\n",
       "              independence_from  \n",
       "211              Spanish Empire  \n",
       "212  Empire of Japan and France  \n",
       "213              United Kingdom  \n",
       "214              United Kingdom  \n",
       "215              United Kingdom  "
      ]
     },
     "execution_count": 4,
     "metadata": {},
     "output_type": "execute_result"
    }
   ],
   "source": [
    "df = df.drop(columns=['weekday', 'day', 'date_mdy', 'year_of_event', 'event_commemorated_and_notes', 'year'])\n",
    "\n",
    "df.tail()"
   ]
  },
  {
   "cell_type": "code",
   "execution_count": 5,
   "metadata": {},
   "outputs": [],
   "source": [
    "#Two instances of China in the set - dropping one \n",
    "\n",
    "df = df.drop(42, axis=0)  \n",
    "\n",
    "df.reset_index(drop=True, inplace=True)"
   ]
  },
  {
   "cell_type": "markdown",
   "metadata": {},
   "source": [
    "Then went through and checked each of the rows for completeness. When I met NaNs, I researched and completed the missing data accordingly. I only retained code cells if they were utilised to alter the data. "
   ]
  },
  {
   "cell_type": "code",
   "execution_count": 6,
   "metadata": {},
   "outputs": [],
   "source": [
    "# Fixing missing values in Andorra. \n",
    "df.loc[3, 'country'] = 'Andorra'\n",
    "df.loc[3, 'date_parsed'] = '1993-09-08'  \n",
    "df.loc[3, 'month'] = 'September'  \n",
    "df.loc[3, 'name_of_holiday'] = 'National Day' \n",
    "df.loc[3, 'date_of_holiday'] = 'September 8'  \n",
    "df.loc[3, 'independence_from'] = 'France'  "
   ]
  },
  {
   "cell_type": "code",
   "execution_count": 7,
   "metadata": {},
   "outputs": [],
   "source": [
    "# Fixing missing values in Australia. \n",
    "df.loc[9, 'country'] = 'Australia'\n",
    "df.loc[9, 'date_parsed'] = '1808-01-26'  \n",
    "df.loc[9, 'month'] = 'January'  \n",
    "df.loc[9, 'name_of_holiday'] = 'Australia Day' \n",
    "df.loc[9, 'date_of_holiday'] = 'January 26'  \n",
    "df.loc[9, 'independence_from'] = 'None'  "
   ]
  },
  {
   "cell_type": "code",
   "execution_count": 8,
   "metadata": {},
   "outputs": [],
   "source": [
    "# Fixing missing values in Austria.   \n",
    "df.loc[10, 'independence_from'] = 'Allied occupying powers'  "
   ]
  },
  {
   "cell_type": "code",
   "execution_count": 9,
   "metadata": {},
   "outputs": [],
   "source": [
    "# Fixing missing values in the Bahamas.   \n",
    "df.loc[13, 'country'] = 'The Bahamas'  "
   ]
  },
  {
   "cell_type": "code",
   "execution_count": 10,
   "metadata": {},
   "outputs": [],
   "source": [
    "# Fixing missing values in Bhutan. \n",
    "df.loc[21, 'country'] = 'Bhutan'\n",
    "df.loc[21, 'date_parsed'] = '1907-12-17'  \n",
    "df.loc[21, 'month'] = 'December'  \n",
    "df.loc[21, 'name_of_holiday'] = 'National Day' \n",
    "df.loc[21, 'date_of_holiday'] = 'December 17'  \n",
    "df.loc[21, 'independence_from'] = 'None'  "
   ]
  },
  {
   "cell_type": "code",
   "execution_count": 11,
   "metadata": {},
   "outputs": [],
   "source": [
    "# Fixing missing values in Cameroon. \n",
    "df.loc[33, 'date_parsed'] = '1972-05-20'  \n",
    "df.loc[33, 'month'] = 'May'  \n",
    "df.loc[33, 'name_of_holiday'] = 'National Day' \n",
    "df.loc[33, 'date_of_holiday'] = 'May 20'  \n",
    "df.loc[33, 'independence_from'] = 'France' "
   ]
  },
  {
   "cell_type": "code",
   "execution_count": 12,
   "metadata": {},
   "outputs": [],
   "source": [
    "# Fixing missing values in Canada. \n",
    "df.loc[34, 'date_parsed'] = '1867-01-1'  \n",
    "df.loc[34, 'month'] = 'July'  \n",
    "df.loc[34, 'name_of_holiday'] = 'Canada Day' \n",
    "df.loc[34, 'date_of_holiday'] = 'July 1'  \n",
    "df.loc[34, 'independence_from'] = 'None'  "
   ]
  },
  {
   "cell_type": "code",
   "execution_count": 13,
   "metadata": {},
   "outputs": [],
   "source": [
    "# Fixing missing values in China \n",
    "df.loc[41, 'date_parsed'] = '1949-10-1'  \n",
    "df.loc[41, 'month'] = 'October'  \n",
    "df.loc[41, 'name_of_holiday'] = 'China Day' \n",
    "df.loc[41, 'date_of_holiday'] = 'October 1'  \n",
    "df.loc[41, 'independence_from'] = 'None'  \n",
    "df.loc[41, 'country'] = 'China' "
   ]
  },
  {
   "cell_type": "code",
   "execution_count": 14,
   "metadata": {},
   "outputs": [],
   "source": [
    "df = df.drop(46, axis=0)  # Two instances of Republic of Congo - drop one \n",
    "df.reset_index(drop=True, inplace=True)"
   ]
  },
  {
   "cell_type": "code",
   "execution_count": 15,
   "metadata": {},
   "outputs": [],
   "source": [
    "# Fixing missing values in Denmark \n",
    "df.loc[53, 'date_parsed'] = '1953-06-5'  \n",
    "df.loc[53, 'month'] = 'June'  \n",
    "df.loc[53, 'name_of_holiday'] = 'Constitution Day' \n",
    "df.loc[53, 'date_of_holiday'] = 'June 5'  \n",
    "df.loc[53, 'independence_from'] = 'None'  "
   ]
  },
  {
   "cell_type": "code",
   "execution_count": 16,
   "metadata": {},
   "outputs": [],
   "source": [
    "# Dominican Republic\n",
    "\n",
    "df.loc[56, 'name_of_holiday'] = \"Independence Day\" "
   ]
  },
  {
   "cell_type": "code",
   "execution_count": 17,
   "metadata": {},
   "outputs": [],
   "source": [
    "# East Timor\n",
    "\n",
    "df.loc[57, 'name_of_holiday'] = \"Independence Day\" "
   ]
  },
  {
   "cell_type": "code",
   "execution_count": 18,
   "metadata": {},
   "outputs": [],
   "source": [
    "# Ecuador\n",
    "\n",
    "df.loc[59, 'name_of_holiday'] = \"Independence Day\" "
   ]
  },
  {
   "cell_type": "code",
   "execution_count": 19,
   "metadata": {},
   "outputs": [],
   "source": [
    "# Egypt \n",
    "\n",
    "df.loc[60, 'date_parsed'] = \"1952-07-23\" \n",
    "df.loc[60, 'month'] = \"July\" \n",
    "df.loc[60, 'name_of_holiday'] = \"Revolution Day\" \n",
    "df.loc[60, 'date_of_holiday'] = \"July 23\" \n",
    "df.loc[60, 'independence_from'] = \"None\" "
   ]
  },
  {
   "cell_type": "code",
   "execution_count": 20,
   "metadata": {},
   "outputs": [],
   "source": [
    "# Equatorial Guinea \n",
    "\n",
    "df.loc[62, 'name_of_holiday'] = \"Independence Day\" "
   ]
  },
  {
   "cell_type": "code",
   "execution_count": 21,
   "metadata": {},
   "outputs": [],
   "source": [
    "# Estonia\n",
    "df.loc[65, 'name_of_holiday'] = 'Day of Restoration of Independence'\n",
    "df.loc[65, 'independence_from'] = 'Soviet Union'"
   ]
  },
  {
   "cell_type": "code",
   "execution_count": 22,
   "metadata": {},
   "outputs": [],
   "source": [
    "# Ethiopia \n",
    "\n",
    "df.loc[67, 'date_parsed'] = \"1941-05-5\" \n",
    "df.loc[67, 'month'] = \"May\" \n",
    "df.loc[67, 'name_of_holiday'] = \"Independence Day\" \n",
    "df.loc[67, 'date_of_holiday'] = \"May 5\" \n",
    "df.loc[67, 'independence_from'] = \"Italy\" "
   ]
  },
  {
   "cell_type": "code",
   "execution_count": 23,
   "metadata": {},
   "outputs": [],
   "source": [
    "#Gabon\n",
    "df.loc[71, 'name_of_holiday'] = \"Independence Day\" "
   ]
  },
  {
   "cell_type": "code",
   "execution_count": 24,
   "metadata": {},
   "outputs": [],
   "source": [
    "# Gambia\n",
    "df.loc[72, 'name_of_holiday'] = \"National Day\" "
   ]
  },
  {
   "cell_type": "code",
   "execution_count": 25,
   "metadata": {},
   "outputs": [],
   "source": [
    "# Germany\n",
    "\n",
    "df.loc[75, 'date_parsed'] = \"1990-10-3\" \n",
    "df.loc[75, 'month'] = \"October\" \n",
    "df.loc[75, 'name_of_holiday'] = \"Unity Day\" \n",
    "df.loc[75, 'date_of_holiday'] = \"October 3\" \n",
    "df.loc[75, 'independence_from'] = \"None\" "
   ]
  },
  {
   "cell_type": "code",
   "execution_count": 26,
   "metadata": {},
   "outputs": [],
   "source": [
    "# France\n",
    "\n",
    "df.loc[70, 'independence_from'] = \"None\" "
   ]
  },
  {
   "cell_type": "code",
   "execution_count": 27,
   "metadata": {},
   "outputs": [],
   "source": [
    "# Greece\n",
    "\n",
    "df.loc[77, 'name_of_holiday'] = \"Independence Day\" "
   ]
  },
  {
   "cell_type": "code",
   "execution_count": 28,
   "metadata": {},
   "outputs": [],
   "source": [
    "# Guinea\n",
    "\n",
    "df.loc[80, 'name_of_holiday'] = \"Independence Day\" "
   ]
  },
  {
   "cell_type": "code",
   "execution_count": 29,
   "metadata": {},
   "outputs": [],
   "source": [
    "# Guyana\n",
    "\n",
    "df.loc[82, 'name_of_holiday'] = \"Independence Day\" "
   ]
  },
  {
   "cell_type": "code",
   "execution_count": 30,
   "metadata": {},
   "outputs": [],
   "source": [
    "# Hungary \n",
    "\n",
    "df.loc[85, 'independence_from'] = \"Soviet Union\" \n",
    "df.loc[85, 'date_of_holiday'] = \"June 19\" "
   ]
  },
  {
   "cell_type": "code",
   "execution_count": 31,
   "metadata": {},
   "outputs": [],
   "source": [
    "# India\n",
    "\n",
    "df.loc[87, 'independence_from'] = \"United Kingdom\"  "
   ]
  },
  {
   "cell_type": "code",
   "execution_count": 32,
   "metadata": {},
   "outputs": [],
   "source": [
    "# Iran\n",
    "\n",
    "df.loc[90, 'independence_from'] = \"None\" \n",
    "df.loc[90, 'name_of_holiday'] = \"Islamic Republic Day\" "
   ]
  },
  {
   "cell_type": "code",
   "execution_count": 33,
   "metadata": {},
   "outputs": [],
   "source": [
    "# Iraq\n",
    "\n",
    "df.loc[91, 'name_of_holiday'] = \"National Day\" "
   ]
  },
  {
   "cell_type": "code",
   "execution_count": 34,
   "metadata": {},
   "outputs": [],
   "source": [
    "# Ireland\n",
    "\n",
    "df.loc[92, 'independence_from'] = \"United Kingdom\" \n",
    "df.loc[92, 'name_of_holiday'] = \"Republic Day\" "
   ]
  },
  {
   "cell_type": "code",
   "execution_count": 35,
   "metadata": {},
   "outputs": [],
   "source": [
    "# Israel\n",
    "\n",
    "df.loc[93, 'independence_from'] = \"United Kingdom\" "
   ]
  },
  {
   "cell_type": "code",
   "execution_count": 36,
   "metadata": {},
   "outputs": [],
   "source": [
    "# Italy\n",
    "\n",
    "df.loc[94, 'date_parsed'] = \"1947-06-2\" \n",
    "df.loc[94, 'month'] = \"June\" \n",
    "df.loc[94, 'name_of_holiday'] = \"Republic Day\" \n",
    "df.loc[94, 'date_of_holiday'] = \"June 2\" \n",
    "df.loc[94, 'independence_from'] = \"None\" "
   ]
  },
  {
   "cell_type": "code",
   "execution_count": 37,
   "metadata": {},
   "outputs": [],
   "source": [
    "# Ivory Coast\n",
    "\n",
    "df.loc[95, 'name_of_holiday'] = \"Independence Day\" "
   ]
  },
  {
   "cell_type": "code",
   "execution_count": 38,
   "metadata": {},
   "outputs": [],
   "source": [
    "# Jamaica\n",
    "\n",
    "df.loc[96, 'name_of_holiday'] = \"Independence Day\" "
   ]
  },
  {
   "cell_type": "code",
   "execution_count": 39,
   "metadata": {},
   "outputs": [],
   "source": [
    "# Japan\n",
    "\n",
    "df.loc[97, 'date_parsed'] = \"1966-02-11\" \n",
    "df.loc[97, 'month'] = \"February\" \n",
    "df.loc[97, 'name_of_holiday'] = \"Foundation Day\" \n",
    "df.loc[97, 'independence_from'] = \"None\" "
   ]
  },
  {
   "cell_type": "code",
   "execution_count": 40,
   "metadata": {},
   "outputs": [],
   "source": [
    "# Kiribati\n",
    "\n",
    "df.loc[101, 'name_of_holiday'] = \"National Day\""
   ]
  },
  {
   "cell_type": "code",
   "execution_count": 41,
   "metadata": {},
   "outputs": [],
   "source": [
    "# Kuwait\n",
    "\n",
    "df.loc[105, 'name_of_holiday'] = \"National Day\""
   ]
  },
  {
   "cell_type": "code",
   "execution_count": 42,
   "metadata": {},
   "outputs": [],
   "source": [
    "# Laos\n",
    "\n",
    "df.loc[107, 'date_parsed'] = \"1975-12-2\" \n",
    "df.loc[107, 'month'] = \"December\" \n",
    "df.loc[107, 'name_of_holiday'] = \"National Day\" \n",
    "df.loc[107, 'date_of_holiday'] = \"December 2\" \n",
    "df.loc[107, 'independence_from'] = \"None\" "
   ]
  },
  {
   "cell_type": "code",
   "execution_count": 43,
   "metadata": {},
   "outputs": [],
   "source": [
    "# Latvia\n",
    "\n",
    "df.loc[109, 'name_of_holiday'] = \"Independence Day\" "
   ]
  },
  {
   "cell_type": "code",
   "execution_count": 44,
   "metadata": {},
   "outputs": [],
   "source": [
    "# Lesotho\n",
    "\n",
    "df.loc[111, 'name_of_holiday'] = \"Independence Day\" "
   ]
  },
  {
   "cell_type": "code",
   "execution_count": 45,
   "metadata": {},
   "outputs": [],
   "source": [
    "# Libya\n",
    " \n",
    "df.loc[113, 'name_of_holiday'] = \"Independence Day\" "
   ]
  },
  {
   "cell_type": "code",
   "execution_count": 46,
   "metadata": {},
   "outputs": [],
   "source": [
    "# Lichtenstein\n",
    "\n",
    "df.loc[114, 'date_parsed'] = \"1940-08-15\" \n",
    "df.loc[114, 'month'] = \"August\" \n",
    "df.loc[114, 'name_of_holiday'] = \"National Day\" \n",
    "df.loc[114, 'date_of_holiday'] = \"August 15\" \n",
    "df.loc[114, 'independence_from'] = \"None\" "
   ]
  },
  {
   "cell_type": "code",
   "execution_count": 47,
   "metadata": {},
   "outputs": [],
   "source": [
    "# Luxembourg\n",
    "\n",
    "df.loc[117, 'date_parsed'] = \"1961-06-23\" \n",
    "df.loc[117, 'month'] = \"June\" \n",
    "df.loc[117, 'name_of_holiday'] = \"National Day\" \n",
    "df.loc[117, 'date_of_holiday'] = \"June 23\" \n",
    "df.loc[117, 'independence_from'] = \"None\" "
   ]
  },
  {
   "cell_type": "code",
   "execution_count": 48,
   "metadata": {},
   "outputs": [],
   "source": [
    "# Madagascar\n",
    "\n",
    "df.loc[118, 'name_of_holiday'] = \"National Day\" "
   ]
  },
  {
   "cell_type": "code",
   "execution_count": 49,
   "metadata": {},
   "outputs": [],
   "source": [
    "# Malawi\n",
    "\n",
    "df.loc[119, 'name_of_holiday'] = \"Malawi Day\" "
   ]
  },
  {
   "cell_type": "code",
   "execution_count": 50,
   "metadata": {},
   "outputs": [],
   "source": [
    "# Maldives\n",
    "\n",
    "df.loc[121, 'name_of_holiday'] = \"National Day\" "
   ]
  },
  {
   "cell_type": "code",
   "execution_count": 51,
   "metadata": {},
   "outputs": [],
   "source": [
    "# Mali\n",
    "\n",
    "df.loc[122, 'name_of_holiday'] = \"Republic Day\" "
   ]
  },
  {
   "cell_type": "code",
   "execution_count": 52,
   "metadata": {},
   "outputs": [],
   "source": [
    "# Marshall Islands\n",
    "\n",
    "df.loc[124, 'date_parsed'] = \"1979-05-1\" \n",
    "df.loc[124, 'month'] = \"May\" \n",
    "df.loc[124, 'name_of_holiday'] = \"Constitution Day\" \n",
    "df.loc[124, 'date_of_holiday'] = \"May 1\" \n",
    "df.loc[124, 'independence_from'] = \"America\" "
   ]
  },
  {
   "cell_type": "code",
   "execution_count": 53,
   "metadata": {},
   "outputs": [],
   "source": [
    "# Mauritania\n",
    " \n",
    "df.loc[125, 'name_of_holiday'] = \"Independence Day\" "
   ]
  },
  {
   "cell_type": "code",
   "execution_count": 54,
   "metadata": {},
   "outputs": [],
   "source": [
    "# Mauritania\n",
    " \n",
    "df.loc[126, 'name_of_holiday'] = \"Mauritius Day\" "
   ]
  },
  {
   "cell_type": "code",
   "execution_count": 55,
   "metadata": {},
   "outputs": [],
   "source": [
    "# Monaco\n",
    "\n",
    "df.loc[130, 'date_parsed'] = \"1979-11-19\" \n",
    "df.loc[130, 'month'] = \"November\" \n",
    "df.loc[130, 'name_of_holiday'] = \"National Day\" \n",
    "df.loc[130, 'date_of_holiday'] = \"November 19\" \n",
    "df.loc[130, 'independence_from'] = \"None\" "
   ]
  },
  {
   "cell_type": "code",
   "execution_count": 56,
   "metadata": {},
   "outputs": [],
   "source": [
    "# Montenegro\n",
    " \n",
    "df.loc[132, 'name_of_holiday'] = \"Independence Day\" "
   ]
  },
  {
   "cell_type": "code",
   "execution_count": 57,
   "metadata": {},
   "outputs": [],
   "source": [
    "# Morocco\n",
    "\n",
    "df.loc[133, 'independence_from'] = \"Spain\" "
   ]
  },
  {
   "cell_type": "code",
   "execution_count": 58,
   "metadata": {},
   "outputs": [],
   "source": [
    "# Namibia\n",
    "\n",
    "df.loc[137, 'name_of_holiday'] = \"Independence Day\""
   ]
  },
  {
   "cell_type": "code",
   "execution_count": 59,
   "metadata": {},
   "outputs": [],
   "source": [
    "# Nauru\n",
    "\n",
    "df.loc[138, 'name_of_holiday'] = \"Independence Day\"\n",
    "df.loc[138, 'independence_from'] = \"Australia\""
   ]
  },
  {
   "cell_type": "code",
   "execution_count": 60,
   "metadata": {},
   "outputs": [],
   "source": [
    "# Nepal\n",
    "\n",
    "df.loc[139, 'date_parsed'] = \"2008-05-28\" \n",
    "df.loc[139, 'month'] = \"May\" \n",
    "df.loc[139, 'name_of_holiday'] = \"Republic Day\" \n",
    "df.loc[139, 'date_of_holiday'] = \"May 28\" \n",
    "df.loc[139, 'independence_from'] = \"None\" "
   ]
  },
  {
   "cell_type": "code",
   "execution_count": 61,
   "metadata": {},
   "outputs": [],
   "source": [
    "# Netherlands\n",
    "\n",
    "df.loc[140, 'country'] = \"Netherlands\" \n",
    "df.loc[140, 'name_of_holiday'] = \"King's Day\" \n",
    "df.loc[140, 'independence_from'] = \"Spain\" "
   ]
  },
  {
   "cell_type": "code",
   "execution_count": 62,
   "metadata": {},
   "outputs": [],
   "source": [
    "# New Zealand\n",
    "\n",
    "df.loc[141, 'date_parsed'] = \"1974-02-6\" \n",
    "df.loc[141, 'month'] = \"February\" \n",
    "df.loc[141, 'name_of_holiday'] = \"Waitangi Day\" \n",
    "df.loc[141, 'date_of_holiday'] = \"February 6\" \n",
    "df.loc[141, 'independence_from'] = \"None\" "
   ]
  },
  {
   "cell_type": "code",
   "execution_count": 63,
   "metadata": {},
   "outputs": [],
   "source": [
    "# North Macedonia\n",
    "\n",
    "df.loc[145, 'name_of_holiday'] = \"Independence Day\" "
   ]
  },
  {
   "cell_type": "code",
   "execution_count": 64,
   "metadata": {},
   "outputs": [],
   "source": [
    "# Palau\n",
    "\n",
    "df.loc[150, 'date_parsed'] = \"1994-10-1\" \n",
    "df.loc[150, 'month'] = \"October\" \n",
    "df.loc[150, 'name_of_holiday'] = \"Independence Day\" \n",
    "df.loc[150, 'date_of_holiday'] = \"October 1\" \n",
    "df.loc[150, 'independence_from'] = \"America\" "
   ]
  },
  {
   "cell_type": "code",
   "execution_count": 65,
   "metadata": {},
   "outputs": [],
   "source": [
    "# Panama\n",
    "\n",
    "df.loc[152, 'name_of_holiday'] = \"National Day\" \n",
    "df.loc[153, 'name_of_holiday'] = \"National Day\" "
   ]
  },
  {
   "cell_type": "code",
   "execution_count": 66,
   "metadata": {},
   "outputs": [],
   "source": [
    "# Papua New Guinea \n",
    "\n",
    "df.loc[154, 'name_of_holiday'] = \"Independence Day\" \n",
    "df.loc[154, 'independence_from'] = \"Australia\" "
   ]
  },
  {
   "cell_type": "code",
   "execution_count": 67,
   "metadata": {},
   "outputs": [],
   "source": [
    "# Peru\n",
    "\n",
    "df.loc[156, 'independence_from'] = \"Spain\" "
   ]
  },
  {
   "cell_type": "code",
   "execution_count": 68,
   "metadata": {},
   "outputs": [],
   "source": [
    "# Russia\n",
    "\n",
    "df.loc[163, 'date_parsed'] = \"1992-06-12\" \n",
    "df.loc[163, 'month'] = \"June\" \n",
    "df.loc[163, 'name_of_holiday'] = \"National Day\" \n",
    "df.loc[163, 'date_of_holiday'] = \"June 12\" \n",
    "df.loc[163, 'independence_from'] = \"None\" "
   ]
  },
  {
   "cell_type": "code",
   "execution_count": 69,
   "metadata": {},
   "outputs": [],
   "source": [
    "# Samoa\n",
    "\n",
    "df.loc[168, 'name_of_holiday'] = \"Independence Day\" "
   ]
  },
  {
   "cell_type": "code",
   "execution_count": 70,
   "metadata": {},
   "outputs": [],
   "source": [
    "# San Marino\n",
    "\n",
    "df.loc[169, 'date_parsed'] = \"1992-09-3\" \n",
    "df.loc[169, 'month'] = \"September\" \n",
    "df.loc[169, 'name_of_holiday'] = \"Foundation Day\" \n",
    "df.loc[169, 'date_of_holiday'] = \"September 3\" \n",
    "df.loc[169, 'independence_from'] = \"None\" "
   ]
  },
  {
   "cell_type": "code",
   "execution_count": 71,
   "metadata": {},
   "outputs": [],
   "source": [
    "# Saudi Arabia\n",
    "\n",
    "df.loc[171, 'independence_from'] = \"None\" "
   ]
  },
  {
   "cell_type": "code",
   "execution_count": 72,
   "metadata": {},
   "outputs": [],
   "source": [
    "# Seychelles\n",
    "\n",
    "df.loc[174, 'name_of_holiday'] = \"National Day\""
   ]
  },
  {
   "cell_type": "code",
   "execution_count": 73,
   "metadata": {},
   "outputs": [],
   "source": [
    "# Slovakia\n",
    " \n",
    "df.loc[177, 'independence_from'] = \"None\"\n",
    "df.loc[177, 'name_of_holiday'] = \"National Day\""
   ]
  },
  {
   "cell_type": "code",
   "execution_count": 74,
   "metadata": {},
   "outputs": [],
   "source": [
    "# Spain\n",
    "\n",
    "df.loc[183, 'date_parsed'] = \"1492-10-12\" \n",
    "df.loc[183, 'month'] = \"October\" \n",
    "df.loc[183, 'name_of_holiday'] = \"National Day\" \n",
    "df.loc[183, 'date_of_holiday'] = \"October 12\" \n",
    "df.loc[183, 'independence_from'] = \"None\" "
   ]
  },
  {
   "cell_type": "code",
   "execution_count": 75,
   "metadata": {},
   "outputs": [],
   "source": [
    "# Sweden\n",
    "\n",
    "df.loc[187, 'independence_from'] = \"None\" "
   ]
  },
  {
   "cell_type": "code",
   "execution_count": 76,
   "metadata": {},
   "outputs": [],
   "source": [
    "# Switzerland\n",
    "\n",
    "df.loc[188, 'independence_from'] = \"None\" "
   ]
  },
  {
   "cell_type": "code",
   "execution_count": 77,
   "metadata": {},
   "outputs": [],
   "source": [
    "# Tanzania \n",
    "\n",
    "df.loc[191, 'name_of_holiday'] = \"Independence Day\" "
   ]
  },
  {
   "cell_type": "code",
   "execution_count": 78,
   "metadata": {},
   "outputs": [],
   "source": [
    "# Thailand \n",
    "\n",
    "df.loc[192, 'date_parsed'] = \"1960-12-5\" \n",
    "df.loc[192, 'month'] = \"December\" \n",
    "df.loc[192, 'name_of_holiday'] = \"National Day\" \n",
    "df.loc[192, 'date_of_holiday'] = \"December 5\" \n",
    "df.loc[192, 'independence_from'] = \"None\" "
   ]
  },
  {
   "cell_type": "code",
   "execution_count": 79,
   "metadata": {},
   "outputs": [],
   "source": [
    "# Togo \n",
    "\n",
    "df.loc[193, 'name_of_holiday'] = \"Independence Day\" "
   ]
  },
  {
   "cell_type": "code",
   "execution_count": 80,
   "metadata": {},
   "outputs": [],
   "source": [
    "# Tonga\n",
    "\n",
    "df.loc[194, 'name_of_holiday'] = \"National Day\" "
   ]
  },
  {
   "cell_type": "code",
   "execution_count": 81,
   "metadata": {},
   "outputs": [],
   "source": [
    "# Turkey\n",
    "\n",
    "df.loc[197, 'date_parsed'] = \"1923-10-29\" \n",
    "df.loc[197, 'month'] = \"October\" \n",
    "df.loc[197, 'name_of_holiday'] = \"Republic Day\" \n",
    "df.loc[197, 'date_of_holiday'] = \"October 29\" \n",
    "df.loc[197, 'independence_from'] = \"None\" "
   ]
  },
  {
   "cell_type": "code",
   "execution_count": 82,
   "metadata": {},
   "outputs": [],
   "source": [
    "# Turkmenistan \n",
    " \n",
    "df.loc[198, 'independence_from'] = \"Soviet Union\" "
   ]
  },
  {
   "cell_type": "code",
   "execution_count": 83,
   "metadata": {},
   "outputs": [],
   "source": [
    "# Vatican City \n",
    "\n",
    "df.loc[208, 'date_parsed'] = \"1929-03-13\" \n",
    "df.loc[208, 'month'] = \"March\" \n",
    "df.loc[208, 'name_of_holiday'] = \"National Day\" \n",
    "df.loc[208, 'date_of_holiday'] = \"March 13\" \n",
    "df.loc[208, 'independence_from'] = \"None\" "
   ]
  },
  {
   "cell_type": "code",
   "execution_count": 84,
   "metadata": {},
   "outputs": [],
   "source": [
    "# Vanuatu\n",
    "\n",
    "df.loc[207, 'independence_from'] = \"United Kingdom\""
   ]
  },
  {
   "cell_type": "code",
   "execution_count": 85,
   "metadata": {},
   "outputs": [],
   "source": [
    "# Yemen\n",
    "\n",
    "df.loc[211, 'name_of_holiday'] = \"National Day\" "
   ]
  },
  {
   "cell_type": "code",
   "execution_count": 86,
   "metadata": {},
   "outputs": [],
   "source": [
    "# Democratic Republic of the Congo name fix \n",
    "\n",
    "df.loc[44, 'country'] = \"Democratic Republic of the Congo\" "
   ]
  },
  {
   "cell_type": "code",
   "execution_count": 87,
   "metadata": {},
   "outputs": [],
   "source": [
    "# Congo name fix \n",
    "\n",
    "df.loc[45, 'country'] = \"Republic of Congo\" "
   ]
  },
  {
   "cell_type": "code",
   "execution_count": 88,
   "metadata": {},
   "outputs": [],
   "source": [
    "# Japan fix\n",
    "\n",
    "df.loc[97, 'date_of_holiday'] = \"Feb 12\" "
   ]
  },
  {
   "cell_type": "markdown",
   "metadata": {},
   "source": [
    "Code to check that all the NaNs have been dealt with above. "
   ]
  },
  {
   "cell_type": "code",
   "execution_count": 89,
   "metadata": {},
   "outputs": [
    {
     "data": {
      "text/plain": [
       "country              0.0\n",
       "date_parsed          0.0\n",
       "month                0.0\n",
       "name_of_holiday      0.0\n",
       "date_of_holiday      0.0\n",
       "independence_from    0.0\n",
       "dtype: float64"
      ]
     },
     "execution_count": 89,
     "metadata": {},
     "output_type": "execute_result"
    }
   ],
   "source": [
    "nan_percentage = df.isna().mean() * 100\n",
    "nan_percentage"
   ]
  },
  {
   "cell_type": "markdown",
   "metadata": {},
   "source": [
    "Converting column types "
   ]
  },
  {
   "cell_type": "code",
   "execution_count": 90,
   "metadata": {},
   "outputs": [
    {
     "name": "stdout",
     "output_type": "stream",
     "text": [
      "country                object\n",
      "date_parsed            object\n",
      "month                category\n",
      "name_of_holiday      category\n",
      "date_of_holiday        object\n",
      "independence_from    category\n",
      "dtype: object\n"
     ]
    }
   ],
   "source": [
    "# Converting to category to be more efficient\n",
    "df['month'] = df['month'].astype('category')\n",
    "df['independence_from'] = df['independence_from'].astype('category')\n",
    "df['name_of_holiday'] = df['name_of_holiday'].astype('category')\n",
    "\n",
    "# Verification\n",
    "print(df.dtypes)\n",
    "\n",
    "# Couldn't convert dates due to extreme age of San Marino - outside datetime functionality."
   ]
  },
  {
   "cell_type": "markdown",
   "metadata": {},
   "source": [
    "Standardising the month format used throughout dataset. "
   ]
  },
  {
   "cell_type": "code",
   "execution_count": 92,
   "metadata": {},
   "outputs": [
    {
     "name": "stdout",
     "output_type": "stream",
     "text": [
      "['Aug', 'Nov', 'Jul', 'Sep', 'May', ..., 'Dec', 'Mar', 'Feb', 'Jun', 'Apr']\n",
      "Length: 12\n",
      "Categories (12, object): ['Apr', 'Aug', 'Dec', 'Feb', ..., 'May', 'Nov', 'Oct', 'Sep']\n"
     ]
    }
   ],
   "source": [
    "month_mapping = {\n",
    "    'January': 'Jan', 'February': 'Feb', 'March': 'Mar', 'April': 'Apr',\n",
    "    'May': 'May', 'June': 'Jun', 'July': 'Jul', 'August': 'Aug',\n",
    "    'September': 'Sep', 'October': 'Oct', 'November': 'Nov', 'December': 'Dec'\n",
    "}\n",
    "\n",
    "# Using the standardised month mapping to tidy up the dataset. \n",
    "df['month'] = df['month'].replace(month_mapping)\n",
    "print(df['month'].unique())"
   ]
  },
  {
   "cell_type": "markdown",
   "metadata": {},
   "source": [
    "Tidying up names used in the 'independence from' column "
   ]
  },
  {
   "cell_type": "code",
   "execution_count": 93,
   "metadata": {},
   "outputs": [
    {
     "name": "stdout",
     "output_type": "stream",
     "text": [
      "United Kingdom\n",
      "Ottoman Empire\n",
      "France\n",
      "Portugal\n",
      "Spanish Empire\n",
      "Russian Soviet Federative Socialist Republic\n",
      "Soviet Union\n",
      "None\n",
      "Allied occupying powers\n",
      "Pakistan\n",
      "Nazi Germany\n",
      "United Netherlands\n",
      "Spain\n",
      "Socialist Federal Republic of Yugoslavia\n",
      "United Kingdom of Portugal, Brazil and the Algarves\n",
      "Belgium\n",
      "SFR Yugoslavia\n",
      "Austria-Hungary\n",
      "Czechoslovakia\n",
      "Ethiopia\n",
      "Italy\n",
      "Denmark\n",
      "Netherlands and Japan\n",
      "Empire of Japan\n",
      "Russian Soviet Federative Socialist Republic and German Empire\n",
      "American Colonization Society\n",
      "America\n",
      "United States\n",
      "Qing China[65][66]\n",
      "Serbia and Montenegro\n",
      "France and Spain\n",
      "South Africa\n",
      "Australia\n",
      "Sweden\n",
      "Israel\n",
      "Colombia\n",
      "Spanish Empire[72]\n",
      "New Zealand\n",
      "Malaysia\n",
      "Italy and United Kingdom\n",
      "Sudan\n",
      "Egypt and the United Kingdom\n",
      "Netherlands\n",
      "Kingdom of Great Britain\n",
      "United Provinces of the Rio de la Plata\n",
      "Empire of Japan and France\n"
     ]
    }
   ],
   "source": [
    "unique_entries = df['independence_from'].unique().tolist()\n",
    "for entry in unique_entries:\n",
    "    print(entry)\n"
   ]
  },
  {
   "cell_type": "code",
   "execution_count": 95,
   "metadata": {},
   "outputs": [],
   "source": [
    "# Changed some names in the dataset to make it clearer to understand. \n",
    "df['independence_from'] = df['independence_from'].replace('Kingdom of Great Britain', 'United Kingdom', regex=False)\n",
    "df['independence_from'] = df['independence_from'].replace('Empire of Japan and France', 'Japan', regex=False)\n",
    "df['independence_from'] = df['independence_from'].replace('Spanish Empire[72]', 'Spain', regex=False)\n",
    "df['independence_from'] = df['independence_from'].replace('Italy and United Kingdom', 'Italy', regex=False)\n",
    "df['independence_from'] = df['independence_from'].replace('SFR Yugoslavia', 'Yugoslavia', regex=False)\n",
    "df['independence_from'] = df['independence_from'].replace('America', 'United States', regex=False)\n",
    "df['independence_from'] = df['independence_from'].replace('United Netherlands', 'Netherlands', regex=False)\n",
    "df['independence_from'] = df['independence_from'].replace('Spanish Empire', 'Spain', regex=False)\n",
    "df['independence_from'] = df['independence_from'].replace('Empire of Japan', 'Japan', regex=False)\n",
    "df['independence_from'] = df['independence_from'].replace('Nazi Germany', 'Germany', regex=False)\n",
    "df['independence_from'] = df['independence_from'].replace('Qing China[65][66]', 'China', regex=False)\n",
    "df['independence_from'] = df['independence_from'].replace('France and Spain', 'Spain', regex=False)\n",
    "df['independence_from'] = df['independence_from'].replace('Allied occupying powers', 'United States', regex=False)\n",
    "df['independence_from'] = df['independence_from'].replace('Netherlands and Japan', 'Netherlands', regex=False)\n",
    "df['independence_from'] = df['independence_from'].replace('Egypt and the United Kingdom', 'Egypt', regex=False)\n",
    "df['independence_from'] = df['independence_from'].replace('Serbia and Montenegro', 'Serbia', regex=False)\n",
    "df['independence_from'] = df['independence_from'].replace('American Colonization Society', 'United States', regex=False)\n",
    "df['independence_from'] = df['independence_from'].replace('United Provinces of the Rio de la Plata', 'Portugal', regex=False)\n",
    "df['independence_from'] = df['independence_from'].replace('Socialist Federal Republic of Yugoslavia', 'Yugoslavia', regex=False)\n",
    "df['independence_from'] = df['independence_from'].replace('United Kingdom of Portugal, Brazil and the Algarves', 'Portugal', regex=False)\n",
    "df['independence_from'] = df['independence_from'].replace('Russian Soviet Federative Socialist Republic and German Empire', 'Soviet Union', regex=False)\n",
    "df['independence_from'] = df['independence_from'].replace('Russian Soviet Federative Socialist Republic', 'Soviet Union', regex=False)\n",
    "df['independence_from'] = df['independence_from'].replace('Soviet Union[80]', 'Soviet Union', regex=False)"
   ]
  },
  {
   "cell_type": "code",
   "execution_count": 96,
   "metadata": {},
   "outputs": [
    {
     "name": "stdout",
     "output_type": "stream",
     "text": [
      "independence_from\n",
      "United Kingdom     26.168224\n",
      "France             12.616822\n",
      "None               12.616822\n",
      "Spain              11.214953\n",
      "Soviet Union       10.747664\n",
      "Portugal            4.205607\n",
      "Ottoman Empire      3.271028\n",
      "United States       2.336449\n",
      "Yugoslavia          1.869159\n",
      "Japan               1.869159\n",
      "Netherlands         1.401869\n",
      "Belgium             1.401869\n",
      "Italy               1.401869\n",
      "Australia           0.934579\n",
      "Denmark             0.934579\n",
      "Germany             0.467290\n",
      "Austria-Hungary     0.467290\n",
      "Malaysia            0.467290\n",
      "Israel              0.467290\n",
      "Pakistan            0.467290\n",
      "Ethiopia            0.467290\n",
      "China               0.467290\n",
      "Egypt               0.467290\n",
      "Serbia              0.467290\n",
      "South Africa        0.467290\n",
      "Czechoslovakia      0.467290\n",
      "Sudan               0.467290\n",
      "Sweden              0.467290\n",
      "Colombia            0.467290\n",
      "New Zealand         0.467290\n",
      "Name: proportion, dtype: float64\n"
     ]
    }
   ],
   "source": [
    "# Exploring the spread of data in independence_from\n",
    "percentage_counts = df['independence_from'].value_counts(normalize=True) * 100\n",
    "print(percentage_counts)"
   ]
  },
  {
   "cell_type": "markdown",
   "metadata": {},
   "source": [
    "The display of the countries independence was gained from was not easy to read on the bar chart. For this reason, I decided to create an additional column to aggregate some of the countries. "
   ]
  },
  {
   "cell_type": "code",
   "execution_count": 97,
   "metadata": {},
   "outputs": [],
   "source": [
    "# Created a mapping for the countries to identify as other, then applying the independence_from values to the new column \n",
    "\n",
    "countries_to_map = [\n",
    "    'Pakistan', 'Germany', 'Israel', 'Czechoslovakia', 'Ethiopia', 'Denmark', 'Serbia', \n",
    "    'China', 'South Africa', 'Austria-Hungary', 'Yugoslavia', 'Italy', 'Japan', 'Netherlands', 'Sweden', 'Australia', 'Belgium', 'Colombia', 'Egypt', 'Sudan', 'New Zealand', 'Malaysia'\n",
    "]\n",
    "\n",
    "df['aggregate_colonisers'] = df['independence_from'].apply(lambda x: 'Other' if x in countries_to_map else x)"
   ]
  },
  {
   "cell_type": "code",
   "execution_count": 98,
   "metadata": {},
   "outputs": [
    {
     "name": "stdout",
     "output_type": "stream",
     "text": [
      "aggregate_colonisers\n",
      "United Kingdom    26.168224\n",
      "Other             16.822430\n",
      "France            12.616822\n",
      "None              12.616822\n",
      "Spain             11.214953\n",
      "Soviet Union      10.747664\n",
      "Portugal           4.205607\n",
      "Ottoman Empire     3.271028\n",
      "United States      2.336449\n",
      "Name: proportion, dtype: float64\n"
     ]
    }
   ],
   "source": [
    "# Quick check of the result.\n",
    "\n",
    "percentage_counts = df['aggregate_colonisers'].value_counts(normalize=True) * 100\n",
    "print(percentage_counts)"
   ]
  },
  {
   "cell_type": "markdown",
   "metadata": {},
   "source": [
    "Fixing the holiday names to attempt more standardisation"
   ]
  },
  {
   "cell_type": "code",
   "execution_count": 100,
   "metadata": {},
   "outputs": [],
   "source": [
    "df['name_of_holiday'] = df['name_of_holiday'].replace('Independence Day (Araw ng Kalayaan or Araw ng Kasarinlan)', 'Independence Day', regex=False)\n",
    "df['name_of_holiday'] = df['name_of_holiday'].replace('State Independence Day of Romania(Ziua Independenței de Stat a României)', 'State Independence Day', regex=False)\n",
    "df['name_of_holiday'] = df['name_of_holiday'].replace('National Day or Bastille Day', 'Bastille Day', regex=False)\n",
    "df['name_of_holiday'] = df['name_of_holiday'].replace('Grito de DoloresDía de la Independéncia', 'Día de la Independéncia', regex=False)\n",
    "df['name_of_holiday'] = df['name_of_holiday'].replace('Independence Day or Fourth of July', 'Fourth of July', regex=False)\n",
    "df['name_of_holiday'] = df['name_of_holiday'].replace('Flag Day (Dita e Flamurit)', 'Flag Day', regex=False)\n",
    "df['name_of_holiday'] = df['name_of_holiday'].replace('Independence Day (Święto Niepodległości)', 'Independence Day', regex=False)\n",
    "df['name_of_holiday'] = df['name_of_holiday'].replace('Day of Hungarian Freedom (A magyar szabadság napja)', 'Day of Hungarian Freedom', regex=False)\n",
    "df['name_of_holiday'] = df['name_of_holiday'].replace('Afghan Independence Day (Afghan Victory Day)', 'Afghan Victory Day', regex=False)\n",
    "df['name_of_holiday'] = df['name_of_holiday'].replace('Independence DayDia da Independência Nacional', 'Dia da Independência Nacional', regex=False)\n",
    "df['name_of_holiday'] = df['name_of_holiday'].replace('Commencement of the Wars of Independence[46]', 'Commencement of the Wars of Independence', regex=False)\n",
    "df['name_of_holiday'] = df['name_of_holiday'].replace('Independence Day (Dia da Independência)', 'Dia da Independência', regex=False)\n",
    "df['name_of_holiday'] = df['name_of_holiday'].replace('Independence Day (Hari Kemerdekaan)', 'Hari Kemerdekaan', regex=False)\n",
    "df['name_of_holiday'] = df['name_of_holiday'].replace('Independence Day (Youm-e-Azadi)', 'Youm-e-Azadi', regex=False)\n",
    "df['name_of_holiday'] = df['name_of_holiday'].replace('Independence Day (part of Fiestas Patrias)', 'Fiestas Patrias', regex=False)"
   ]
  },
  {
   "cell_type": "code",
   "execution_count": 101,
   "metadata": {},
   "outputs": [
    {
     "name": "stdout",
     "output_type": "stream",
     "text": [
      "name_of_holiday\n",
      "Independence Day                              53.271028\n",
      "National Day                                  16.355140\n",
      "Republic Day                                   4.672897\n",
      "Constitution Day                               1.401869\n",
      "Statehood Day                                  0.934579\n",
      "Fiestas Patrias                                0.934579\n",
      "Proclamation of Independence Day               0.934579\n",
      "Foundation Day                                 0.934579\n",
      "Afghan Victory Day                             0.467290\n",
      "King's Day                                     0.467290\n",
      "Liberation Day                                 0.467290\n",
      "Malawi Day                                     0.467290\n",
      "Mauritius Day                                  0.467290\n",
      "Bastille Day                                   0.467290\n",
      "Not a holiday                                  0.467290\n",
      "Proclamation Day of the Republic of Latvia     0.467290\n",
      "Restoration Day                                0.467290\n",
      "Islamic Republic Day                           0.467290\n",
      "Restoration of Independence Day                0.467290\n",
      "Revolution Day                                 0.467290\n",
      "Samiljeol                                      0.467290\n",
      "Somhlolo Day                                   0.467290\n",
      "State Independence Day                         0.467290\n",
      "Statehood Restoration Day                      0.467290\n",
      "Swiss National Day                             0.467290\n",
      "Unity Day                                      0.467290\n",
      "Waitangi Day                                   0.467290\n",
      "Jamhuri Day                                    0.467290\n",
      "Independence and Unity Day                     0.467290\n",
      "Independence from Britain                      0.467290\n",
      "Fiji Day                                       0.467290\n",
      "Canada Day                                     0.467290\n",
      "China Day                                      0.467290\n",
      "Chogukhaebangŭi nal                            0.467290\n",
      "Commencement of the Wars of Independence       0.467290\n",
      "Day of Hungarian Freedom                       0.467290\n",
      "Day of National Unity                          0.467290\n",
      "Day of Restoration of Independence             0.467290\n",
      "Day of Unity                                   0.467290\n",
      "Evacuation Day                                 0.467290\n",
      "Flag Day                                       0.467290\n",
      "Australia Day                                  0.467290\n",
      "Día de la Independéncia                        0.467290\n",
      "Gwangbokjeol                                   0.467290\n",
      "Hari Merdeka                                   0.467290\n",
      "Dia da Independência                           0.467290\n",
      "Hari Kemerdekaan                               0.467290\n",
      "Youm-e-Azadi                                   0.467290\n",
      "Fourth of July                                 0.467290\n",
      "Dia da Independência Nacional                  0.467290\n",
      "Independence Restoration Day                   0.467290\n",
      "Yom Ha'atzmaut                                 0.467290\n",
      "Name: proportion, dtype: float64\n"
     ]
    }
   ],
   "source": [
    "# Exploring the spread of data in independence_from\n",
    "percentage_counts = df['name_of_holiday'].value_counts(normalize=True) * 100\n",
    "print(percentage_counts)"
   ]
  },
  {
   "cell_type": "markdown",
   "metadata": {},
   "source": [
    "Another check of data "
   ]
  },
  {
   "cell_type": "code",
   "execution_count": 102,
   "metadata": {},
   "outputs": [
    {
     "data": {
      "text/html": [
       "<div>\n",
       "<style scoped>\n",
       "    .dataframe tbody tr th:only-of-type {\n",
       "        vertical-align: middle;\n",
       "    }\n",
       "\n",
       "    .dataframe tbody tr th {\n",
       "        vertical-align: top;\n",
       "    }\n",
       "\n",
       "    .dataframe thead th {\n",
       "        text-align: right;\n",
       "    }\n",
       "</style>\n",
       "<table border=\"1\" class=\"dataframe\">\n",
       "  <thead>\n",
       "    <tr style=\"text-align: right;\">\n",
       "      <th></th>\n",
       "      <th>country</th>\n",
       "      <th>date_parsed</th>\n",
       "      <th>month</th>\n",
       "      <th>name_of_holiday</th>\n",
       "      <th>date_of_holiday</th>\n",
       "      <th>independence_from</th>\n",
       "      <th>aggregate_colonisers</th>\n",
       "    </tr>\n",
       "  </thead>\n",
       "  <tbody>\n",
       "    <tr>\n",
       "      <th>0</th>\n",
       "      <td>Afghanistan</td>\n",
       "      <td>1919-08-19</td>\n",
       "      <td>Aug</td>\n",
       "      <td>Afghan Victory Day</td>\n",
       "      <td>August 19</td>\n",
       "      <td>United Kingdom</td>\n",
       "      <td>United Kingdom</td>\n",
       "    </tr>\n",
       "    <tr>\n",
       "      <th>1</th>\n",
       "      <td>Albania</td>\n",
       "      <td>1912-11-28</td>\n",
       "      <td>Nov</td>\n",
       "      <td>Flag Day</td>\n",
       "      <td>November 28</td>\n",
       "      <td>Ottoman Empire</td>\n",
       "      <td>Ottoman Empire</td>\n",
       "    </tr>\n",
       "    <tr>\n",
       "      <th>2</th>\n",
       "      <td>Algeria</td>\n",
       "      <td>1962-07-05</td>\n",
       "      <td>Jul</td>\n",
       "      <td>Independence Day</td>\n",
       "      <td>July 5</td>\n",
       "      <td>France</td>\n",
       "      <td>France</td>\n",
       "    </tr>\n",
       "    <tr>\n",
       "      <th>3</th>\n",
       "      <td>Andorra</td>\n",
       "      <td>1993-09-08</td>\n",
       "      <td>Sep</td>\n",
       "      <td>National Day</td>\n",
       "      <td>September 8</td>\n",
       "      <td>France</td>\n",
       "      <td>France</td>\n",
       "    </tr>\n",
       "    <tr>\n",
       "      <th>4</th>\n",
       "      <td>Angola</td>\n",
       "      <td>1975-11-11</td>\n",
       "      <td>Nov</td>\n",
       "      <td>Independence Day</td>\n",
       "      <td>November 11</td>\n",
       "      <td>Portugal</td>\n",
       "      <td>Portugal</td>\n",
       "    </tr>\n",
       "  </tbody>\n",
       "</table>\n",
       "</div>"
      ],
      "text/plain": [
       "       country date_parsed month     name_of_holiday date_of_holiday  \\\n",
       "0  Afghanistan  1919-08-19   Aug  Afghan Victory Day       August 19   \n",
       "1      Albania  1912-11-28   Nov            Flag Day     November 28   \n",
       "2      Algeria  1962-07-05   Jul    Independence Day          July 5   \n",
       "3      Andorra  1993-09-08   Sep        National Day     September 8   \n",
       "4       Angola  1975-11-11   Nov    Independence Day     November 11   \n",
       "\n",
       "  independence_from aggregate_colonisers  \n",
       "0    United Kingdom       United Kingdom  \n",
       "1    Ottoman Empire       Ottoman Empire  \n",
       "2            France               France  \n",
       "3            France               France  \n",
       "4          Portugal             Portugal  "
      ]
     },
     "execution_count": 102,
     "metadata": {},
     "output_type": "execute_result"
    }
   ],
   "source": [
    "df.head()"
   ]
  },
  {
   "cell_type": "markdown",
   "metadata": {},
   "source": [
    "Adding additional rows to the dataset which are present in the GeoJSON. "
   ]
  },
  {
   "cell_type": "code",
   "execution_count": 103,
   "metadata": {},
   "outputs": [],
   "source": [
    "# Antarctica\n",
    "antarctica_row = {\n",
    "    'country': 'Antarctica',\n",
    "    'date_parsed': \"1959-12-1\",\n",
    "    'name_of_holiday': \"Antarctica Day\",       \n",
    "    'date_of_holiday': \"December 1\",       \n",
    "    'independence_from': \"None\",     \n",
    "    'month': \"Dec\",                 \n",
    "    'aggregate_colonisers': \"None\"   \n",
    "}\n",
    "\n",
    "df = pd.concat([df, pd.DataFrame([antarctica_row])], ignore_index=True)"
   ]
  },
  {
   "cell_type": "code",
   "execution_count": 104,
   "metadata": {},
   "outputs": [],
   "source": [
    "# United Kingdom\n",
    "uk_row = {\n",
    "    'country': 'United Kingdom',\n",
    "    'date_parsed': \"1948-06-25\",\n",
    "    'name_of_holiday': \"King's Birthday\",       \n",
    "    'date_of_holiday': \"June 25\",       \n",
    "    'independence_from': \"None\",     \n",
    "    'month': \"Jun\",                 \n",
    "    'aggregate_colonisers': \"None\"   \n",
    "}\n",
    "\n",
    "df = pd.concat([df, pd.DataFrame([uk_row])], ignore_index=True)"
   ]
  },
  {
   "cell_type": "code",
   "execution_count": 106,
   "metadata": {},
   "outputs": [],
   "source": [
    "# Western Sahara\n",
    "sahara_row = {\n",
    "    'country': 'Western Sahara',\n",
    "    'date_parsed': \"1976-02-27\",\n",
    "    'name_of_holiday': \"Liberation Day\",       \n",
    "    'date_of_holiday': \"February 27\",       \n",
    "    'independence_from': \"Spain\",     \n",
    "    'month': \"Feb\",                 \n",
    "    'aggregate_colonisers': \"Spain\"   \n",
    "}\n",
    "\n",
    "df = pd.concat([df, pd.DataFrame([sahara_row])], ignore_index=True)"
   ]
  },
  {
   "cell_type": "code",
   "execution_count": 107,
   "metadata": {},
   "outputs": [],
   "source": [
    "# Ivory Coast \n",
    "ivorycoast_row = {\n",
    "    'country': 'Ivory Coast',\n",
    "    'date_parsed': \"1960-08-07\",\n",
    "    'name_of_holiday': \"Independence Day\",       \n",
    "    'date_of_holiday': \"August 7\",       \n",
    "    'independence_from': \"France\",     \n",
    "    'month': \"Aug\",                 \n",
    "    'aggregate_colonisers': \"France\"   \n",
    "}\n",
    "\n",
    "df = pd.concat([df, pd.DataFrame([ivorycoast_row])], ignore_index=True)"
   ]
  },
  {
   "cell_type": "code",
   "execution_count": 108,
   "metadata": {},
   "outputs": [],
   "source": [
    "# French Guiana \n",
    "french_row = {\n",
    "    'country': 'French Guiana',\n",
    "    'date_parsed': \"1960-08-07\",\n",
    "    'name_of_holiday': \"Bastille Day\",       \n",
    "    'date_of_holiday': \"July 14\",       \n",
    "    'independence_from': \"None\",     \n",
    "    'month': \"Jul\",                 \n",
    "    'aggregate_colonisers': \"None\"   \n",
    "}\n",
    "\n",
    "df = pd.concat([df, pd.DataFrame([french_row])], ignore_index=True)"
   ]
  },
  {
   "cell_type": "code",
   "execution_count": 109,
   "metadata": {},
   "outputs": [],
   "source": [
    "# Syrian Arab Republic \n",
    "sra_row = {\n",
    "    'country': 'Syrian Arab Republic',\n",
    "    'date_parsed': \"1946-04-17\",\n",
    "    'name_of_holiday': \"Evacuation Day\",       \n",
    "    'date_of_holiday': \"April 17\",       \n",
    "    'independence_from': \"France\",     \n",
    "    'month': \"Apr\",                 \n",
    "    'aggregate_colonisers': \"France\"   \n",
    "}\n",
    "\n",
    "df = pd.concat([df, pd.DataFrame([sra_row])], ignore_index=True)"
   ]
  },
  {
   "cell_type": "code",
   "execution_count": 110,
   "metadata": {},
   "outputs": [],
   "source": [
    "# Macedonia\n",
    "macedonia_row = {\n",
    "    'country': 'Macedonia',\n",
    "    'date_parsed': \"1991-09-08\",\n",
    "    'name_of_holiday': \"Independence Day\",       \n",
    "    'date_of_holiday': \"September 9\",       \n",
    "    'independence_from': \"Yugoslavia\",     \n",
    "    'month': \"Sep\",                 \n",
    "    'aggregate_colonisers': \"Other\"   \n",
    "}\n",
    "\n",
    "df = pd.concat([df, pd.DataFrame([macedonia_row])], ignore_index=True)"
   ]
  },
  {
   "cell_type": "code",
   "execution_count": 111,
   "metadata": {},
   "outputs": [],
   "source": [
    "# Taiwan \n",
    "taiwan_row = {\n",
    "    'country': 'Taiwan',\n",
    "    'date_parsed': \"1911-10-10\",\n",
    "    'name_of_holiday': \"Double Ten Day\",       \n",
    "    'date_of_holiday': \"October 10\",       \n",
    "    'independence_from': \"China\",     \n",
    "    'month': \"Oct\",                 \n",
    "    'aggregate_colonisers': \"Other\"   \n",
    "}\n",
    "\n",
    "df = pd.concat([df, pd.DataFrame([taiwan_row])], ignore_index=True)"
   ]
  },
  {
   "cell_type": "markdown",
   "metadata": {},
   "source": [
    "Adding a 'Season' column for visual display "
   ]
  },
  {
   "cell_type": "code",
   "execution_count": 112,
   "metadata": {},
   "outputs": [
    {
     "data": {
      "text/html": [
       "<div>\n",
       "<style scoped>\n",
       "    .dataframe tbody tr th:only-of-type {\n",
       "        vertical-align: middle;\n",
       "    }\n",
       "\n",
       "    .dataframe tbody tr th {\n",
       "        vertical-align: top;\n",
       "    }\n",
       "\n",
       "    .dataframe thead th {\n",
       "        text-align: right;\n",
       "    }\n",
       "</style>\n",
       "<table border=\"1\" class=\"dataframe\">\n",
       "  <thead>\n",
       "    <tr style=\"text-align: right;\">\n",
       "      <th></th>\n",
       "      <th>country</th>\n",
       "      <th>date_parsed</th>\n",
       "      <th>month</th>\n",
       "      <th>name_of_holiday</th>\n",
       "      <th>date_of_holiday</th>\n",
       "      <th>independence_from</th>\n",
       "      <th>aggregate_colonisers</th>\n",
       "      <th>season</th>\n",
       "    </tr>\n",
       "  </thead>\n",
       "  <tbody>\n",
       "    <tr>\n",
       "      <th>0</th>\n",
       "      <td>Afghanistan</td>\n",
       "      <td>1919-08-19</td>\n",
       "      <td>Aug</td>\n",
       "      <td>Afghan Victory Day</td>\n",
       "      <td>August 19</td>\n",
       "      <td>United Kingdom</td>\n",
       "      <td>United Kingdom</td>\n",
       "      <td>Summer</td>\n",
       "    </tr>\n",
       "    <tr>\n",
       "      <th>1</th>\n",
       "      <td>Albania</td>\n",
       "      <td>1912-11-28</td>\n",
       "      <td>Nov</td>\n",
       "      <td>Flag Day</td>\n",
       "      <td>November 28</td>\n",
       "      <td>Ottoman Empire</td>\n",
       "      <td>Ottoman Empire</td>\n",
       "      <td>Autumn</td>\n",
       "    </tr>\n",
       "    <tr>\n",
       "      <th>2</th>\n",
       "      <td>Algeria</td>\n",
       "      <td>1962-07-05</td>\n",
       "      <td>Jul</td>\n",
       "      <td>Independence Day</td>\n",
       "      <td>July 5</td>\n",
       "      <td>France</td>\n",
       "      <td>France</td>\n",
       "      <td>Summer</td>\n",
       "    </tr>\n",
       "    <tr>\n",
       "      <th>3</th>\n",
       "      <td>Andorra</td>\n",
       "      <td>1993-09-08</td>\n",
       "      <td>Sep</td>\n",
       "      <td>National Day</td>\n",
       "      <td>September 8</td>\n",
       "      <td>France</td>\n",
       "      <td>France</td>\n",
       "      <td>Autumn</td>\n",
       "    </tr>\n",
       "    <tr>\n",
       "      <th>4</th>\n",
       "      <td>Angola</td>\n",
       "      <td>1975-11-11</td>\n",
       "      <td>Nov</td>\n",
       "      <td>Independence Day</td>\n",
       "      <td>November 11</td>\n",
       "      <td>Portugal</td>\n",
       "      <td>Portugal</td>\n",
       "      <td>Autumn</td>\n",
       "    </tr>\n",
       "  </tbody>\n",
       "</table>\n",
       "</div>"
      ],
      "text/plain": [
       "       country date_parsed month     name_of_holiday date_of_holiday  \\\n",
       "0  Afghanistan  1919-08-19   Aug  Afghan Victory Day       August 19   \n",
       "1      Albania  1912-11-28   Nov            Flag Day     November 28   \n",
       "2      Algeria  1962-07-05   Jul    Independence Day          July 5   \n",
       "3      Andorra  1993-09-08   Sep        National Day     September 8   \n",
       "4       Angola  1975-11-11   Nov    Independence Day     November 11   \n",
       "\n",
       "  independence_from aggregate_colonisers  season  \n",
       "0    United Kingdom       United Kingdom  Summer  \n",
       "1    Ottoman Empire       Ottoman Empire  Autumn  \n",
       "2            France               France  Summer  \n",
       "3            France               France  Autumn  \n",
       "4          Portugal             Portugal  Autumn  "
      ]
     },
     "execution_count": 112,
     "metadata": {},
     "output_type": "execute_result"
    }
   ],
   "source": [
    "# Dictionary to map months to seasons\n",
    "month_to_season = {\n",
    "    'Jan': 'Winter', 'Feb': 'Winter', 'Mar': 'Spring',\n",
    "    'Apr': 'Spring', 'May': 'Spring', 'Jun': 'Summer',\n",
    "    'Jul': 'Summer', 'Aug': 'Summer', 'Sep': 'Autumn',\n",
    "    'Oct': 'Autumn', 'Nov': 'Autumn', 'Dec': 'Winter'\n",
    "}\n",
    "\n",
    "df['season'] = df['month'].map(month_to_season)\n",
    "df.head()"
   ]
  },
  {
   "cell_type": "markdown",
   "metadata": {},
   "source": [
    "Saving cleaned datafile "
   ]
  },
  {
   "cell_type": "code",
   "execution_count": 114,
   "metadata": {},
   "outputs": [],
   "source": [
    "df.to_csv('cleaned_holidays.csv')"
   ]
  }
 ],
 "metadata": {
  "kernelspec": {
   "display_name": "dataprep",
   "language": "python",
   "name": "python3"
  },
  "language_info": {
   "codemirror_mode": {
    "name": "ipython",
    "version": 3
   },
   "file_extension": ".py",
   "mimetype": "text/x-python",
   "name": "python",
   "nbconvert_exporter": "python",
   "pygments_lexer": "ipython3",
   "version": "3.12.3"
  }
 },
 "nbformat": 4,
 "nbformat_minor": 2
}
